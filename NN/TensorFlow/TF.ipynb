{
 "cells": [
  {
   "cell_type": "code",
   "execution_count": 1,
   "metadata": {
    "collapsed": true,
    "deletable": true,
    "editable": true
   },
   "outputs": [],
   "source": [
    "import tflearn\n",
    "import tensorflow as tf\n",
    "\n",
    "from sklearn.model_selection import train_test_split\n",
    "import numpy as np\n",
    "\n",
    "from sklearn.preprocessing import StandardScaler\n",
    "\n",
    "import pandas as pd\n",
    "\n",
    "df = pd.read_csv(\"data/final_train.csv\")\n",
    "\n",
    "trY = df['Item_Outlet_Sales']\n",
    "\n",
    "df.drop(['Item_Identifier'], axis=1, inplace=True)\n",
    "df.drop(['Item_Outlet_Sales'], axis=1, inplace=True)\n",
    "\n",
    "df = df.astype(np.float32)\n",
    "\n",
    "scaler_X = StandardScaler(with_mean=True, with_std=True)\n",
    "trX = scaler_X.fit_transform(df)\n",
    "\n",
    "trX, tsX, trY, tsY = train_test_split(trX, trY, test_size=0.33, random_state=42)"
   ]
  },
  {
   "cell_type": "code",
   "execution_count": 2,
   "metadata": {
    "collapsed": false,
    "deletable": true,
    "editable": true
   },
   "outputs": [],
   "source": [
    "trY = trY.values.reshape(trY.shape[0],1)\n",
    "tsY = tsY.values.reshape(tsY.shape[0],1)\n",
    "\n",
    "# Building deep neural network\n",
    "net = tflearn.input_data(shape=[None, trX.shape[1]])\n",
    "net = tflearn.fully_connected(net, 150, activation='relu', weights_init='truncated_normal')\n",
    "net = tflearn.fully_connected(net, 1, activation='linear', weights_init='truncated_normal')\n",
    "net = tflearn.regression(net, optimizer='Adam', loss='mean_square', \n",
    "                         metric=None, batch_size=20)"
   ]
  },
  {
   "cell_type": "code",
   "execution_count": 3,
   "metadata": {
    "collapsed": false,
    "deletable": true,
    "editable": true,
    "scrolled": true
   },
   "outputs": [
    {
     "name": "stdout",
     "output_type": "stream",
     "text": [
      "Training Step: 14299  | total loss: \u001b[1m\u001b[32m1237118.25000\u001b[0m\u001b[0m | time: 0.852s\n",
      "| Adam | epoch: 050 | loss: 1237118.25000 -- iter: 5700/5710\n",
      "Training Step: 14300  | total loss: \u001b[1m\u001b[32m1178972.00000\u001b[0m\u001b[0m | time: 1.918s\n",
      "| Adam | epoch: 050 | loss: 1178972.00000 | val_loss: 1174865.33810 -- iter: 5710/5710\n",
      "--\n"
     ]
    }
   ],
   "source": [
    "# Training\n",
    "# trX, tsX, trY, tsY = np.array(trX), np.array(tsX), np.array(trY), np.array(tsY)\n",
    "model = tflearn.DNN(net)\n",
    "model.fit(trX, trY, n_epoch = 50, validation_set=(tsX, tsY), show_metric=True)"
   ]
  },
  {
   "cell_type": "code",
   "execution_count": null,
   "metadata": {
    "collapsed": true,
    "deletable": true,
    "editable": true
   },
   "outputs": [],
   "source": []
  }
 ],
 "metadata": {
  "kernelspec": {
   "display_name": "Python 3",
   "language": "python",
   "name": "python3"
  },
  "language_info": {
   "codemirror_mode": {
    "name": "ipython",
    "version": 3
   },
   "file_extension": ".py",
   "mimetype": "text/x-python",
   "name": "python",
   "nbconvert_exporter": "python",
   "pygments_lexer": "ipython3",
   "version": "3.6.0"
  }
 },
 "nbformat": 4,
 "nbformat_minor": 2
}
