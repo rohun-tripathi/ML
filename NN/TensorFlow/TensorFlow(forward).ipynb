{
 "cells": [
  {
   "cell_type": "code",
   "execution_count": 9,
   "metadata": {
    "collapsed": true
   },
   "outputs": [],
   "source": [
    "import tensorflow as tf\n",
    "\n",
    "from sklearn import datasets\n",
    "from sklearn.model_selection import train_test_split\n",
    "import numpy as np\n",
    "\n",
    "from sklearn.preprocessing import StandardScaler\n",
    "\n",
    "import pandas as pd\n",
    "\n",
    "df = pd.read_csv(\"data/final_train.csv\")\n",
    "\n",
    "trY = df['Item_Outlet_Sales']\n",
    "\n",
    "df.drop(['Item_Identifier'], axis=1, inplace=True)\n",
    "df.drop(['Item_Outlet_Sales'], axis=1, inplace=True)\n",
    "\n",
    "df = df.astype(np.float32)\n",
    "\n",
    "scaler_X = StandardScaler(with_mean=True, with_std=True)\n",
    "trX = scaler_X.fit_transform(df)\n",
    "\n",
    "trX, tsX, trY, tsY = train_test_split(trX, trY, test_size=0.33, random_state=42)"
   ]
  },
  {
   "cell_type": "code",
   "execution_count": 10,
   "metadata": {
    "collapsed": false
   },
   "outputs": [],
   "source": [
    "total_len = trX.shape[0]\n",
    "\n",
    "# Parameters\n",
    "training_epochs = 1250\n",
    "batch_size = 20\n",
    "display_step = 100\n",
    "\n",
    "# Network Parameters\n",
    "n_input = trX.shape[1]\n",
    "n_hidden = 150\n",
    "n_output = 1\n",
    "\n",
    "# tf Graph input\n",
    "x = tf.placeholder(\"float\", [None, n_input])\n",
    "y = tf.placeholder(\"float\", [None])"
   ]
  },
  {
   "cell_type": "code",
   "execution_count": 11,
   "metadata": {
    "collapsed": false
   },
   "outputs": [],
   "source": [
    "# Create model\n",
    "def multilayer_perceptron(x, weights, biases):\n",
    "    # Hidden layer with RELU activation\n",
    "    layer_1 = tf.add(tf.matmul(x, weights['h1']), biases['b1'])\n",
    "    layer_1 = tf.nn.relu(layer_1)\n",
    "\n",
    "#     # Hidden layer with RELU activation\n",
    "#     layer_2 = tf.add(tf.matmul(layer_1, weights['h2']), biases['b2'])\n",
    "#     layer_2 = tf.nn.relu(layer_2)\n",
    "\n",
    "    # Output layer with linear activation\n",
    "    out_layer = tf.add(tf.matmul(layer_1, weights['out']), biases['out'])\n",
    "    return out_layer\n",
    "\n",
    "weights = {\n",
    "    'h1': tf.Variable(tf.random_normal([n_input, n_hidden], 0, 0.05)),\n",
    "    'out': tf.Variable(tf.random_normal([n_hidden, n_output], 0, 0.05))\n",
    "}\n",
    "biases = {\n",
    "    'b1': tf.Variable(tf.random_normal([n_hidden], 0, 0.05)),\n",
    "    'out': tf.Variable(tf.random_normal([n_output], 0, 0.05))\n",
    "}"
   ]
  },
  {
   "cell_type": "code",
   "execution_count": 12,
   "metadata": {
    "collapsed": false
   },
   "outputs": [],
   "source": [
    "trX = trX.astype(np.float32)\n",
    "# Construct model\n",
    "pred = multilayer_perceptron(x, weights, biases)\n",
    "\n",
    "# Define loss and optimizer\n",
    "cost = tf.sqrt(tf.reduce_mean(tf.square(pred-y)))\n",
    "optimizer = tf.train.AdamOptimizer().minimize(cost)"
   ]
  },
  {
   "cell_type": "code",
   "execution_count": 13,
   "metadata": {
    "collapsed": false
   },
   "outputs": [
    {
     "name": "stdout",
     "output_type": "stream",
     "text": [
      "Epoch: 0001 cost = 2745.095635879\n",
      "Epoch: 0101 cost = 1680.443437757\n",
      "Epoch: 0201 cost = 1680.030792772\n",
      "Epoch: 0301 cost = 1679.882975689\n",
      "Epoch: 0401 cost = 1679.807071083\n",
      "Epoch: 0501 cost = 1679.761244175\n",
      "Epoch: 0601 cost = 1679.726684570\n",
      "Epoch: 0701 cost = 1679.698153954\n",
      "Epoch: 0801 cost = 1679.673473693\n",
      "Epoch: 0901 cost = 1679.647931658\n",
      "Epoch: 1001 cost = 1679.627338396\n",
      "Epoch: 1101 cost = 1679.608947326\n",
      "Epoch: 1201 cost = 1679.591817863\n",
      "Optimization Finished!\n"
     ]
    }
   ],
   "source": [
    "# Launch the graph\n",
    "sess = tf.InteractiveSession()\n",
    "\n",
    "sess.run(tf.global_variables_initializer())\n",
    "\n",
    "# Training cycle\n",
    "for epoch in range(training_epochs):\n",
    "    avg_cost = 0.\n",
    "    total_batch = int(total_len/batch_size)\n",
    "    # Loop over all batches\n",
    "    for i in range(total_batch-1):\n",
    "        batch_x = trX[i*batch_size:(i+1)*batch_size]\n",
    "        batch_y = trY[i*batch_size:(i+1)*batch_size]\n",
    "        # Run optimization op (backprop) and cost op (to get loss value)\n",
    "        _, c, p = sess.run([optimizer, cost, pred], feed_dict={x: batch_x,\n",
    "                                                      y: batch_y})\n",
    "        # Compute average loss\n",
    "        avg_cost += c / total_batch\n",
    "\n",
    "    # Display logs per epoch step\n",
    "    if epoch % display_step == 0:\n",
    "        print (\"Epoch:\", '%04d' % (epoch+1), \"cost =\", \\\n",
    "            \"{:.9f}\".format(avg_cost))\n",
    "\n",
    "print (\"Optimization Finished!\")"
   ]
  },
  {
   "cell_type": "code",
   "execution_count": 14,
   "metadata": {
    "collapsed": false
   },
   "outputs": [
    {
     "name": "stdout",
     "output_type": "stream",
     "text": [
      "1676.03\n"
     ]
    }
   ],
   "source": [
    "# Test model\n",
    "error = tf.square(pred - y)\n",
    "# Calculate accuracy\n",
    "accuracy = tf.sqrt(tf.reduce_mean(tf.cast(error, \"float\")))\n",
    "print(sess.run(accuracy, feed_dict={x: tsX, y: tsY}))"
   ]
  },
  {
   "cell_type": "code",
   "execution_count": null,
   "metadata": {
    "collapsed": true
   },
   "outputs": [],
   "source": []
  }
 ],
 "metadata": {
  "kernelspec": {
   "display_name": "Python 3",
   "language": "python",
   "name": "python3"
  },
  "language_info": {
   "codemirror_mode": {
    "name": "ipython",
    "version": 3
   },
   "file_extension": ".py",
   "mimetype": "text/x-python",
   "name": "python",
   "nbconvert_exporter": "python",
   "pygments_lexer": "ipython3",
   "version": "3.6.0"
  }
 },
 "nbformat": 4,
 "nbformat_minor": 2
}
